{
 "cells": [
  {
   "cell_type": "code",
   "execution_count": 2,
   "id": "initial_id",
   "metadata": {
    "collapsed": true,
    "ExecuteTime": {
     "end_time": "2023-12-17T10:31:56.659119800Z",
     "start_time": "2023-12-17T10:31:56.555122800Z"
    }
   },
   "outputs": [],
   "source": [
    "import numpy as np\n",
    "import pandas as pd\n",
    "import matplotlib.pyplot as plt\n",
    "import seaborn as sns\n",
    "import plotly.graph_objects as go\n",
    "import plotly.offline as pyo \n",
    "import plotly.io as pio\n",
    "import sklearn\n",
    "import plotly.express as ex\n",
    "\n",
    "import warnings\n",
    "warnings.filterwarnings('ignore')"
   ]
  },
  {
   "cell_type": "code",
   "execution_count": 3,
   "outputs": [
    {
     "data": {
      "text/plain": "                                   0                          1             2  \\\nName                 Tiffany Ramirez                Ruben Burns     Chad Byrd   \nAge                               81                         35            61   \nGender                        Female                       Male          Male   \nBlood Type                        O-                         O+            B-   \nMedical Condition           Diabetes                     Asthma       Obesity   \nDate of Admission         2022-11-17                 2023-06-01    2019-01-09   \nDoctor                Patrick Parker              Diane Jackson    Paul Baker   \nHospital            Wallace-Hamilton  Burke, Griffin and Cooper    Walton LLC   \nInsurance Provider          Medicare           UnitedHealthcare      Medicare   \nBilling Amount          37490.983364               47304.064845  36874.896997   \nRoom Number                      146                        404           292   \nAdmission Type              Elective                  Emergency     Emergency   \nDischarge Date            2022-12-01                 2023-06-15    2019-02-08   \nMedication                   Aspirin                    Lipitor       Lipitor   \nTest Results            Inconclusive                     Normal        Normal   \n\n                                    3                        4  \nName                Antonio Frederick      Mrs. Brandy Flowers  \nAge                                49                       51  \nGender                           Male                     Male  \nBlood Type                         B-                       O-  \nMedical Condition              Asthma                Arthritis  \nDate of Admission          2020-05-02               2021-07-09  \nDoctor                 Brian Chandler           Dustin Griffin  \nHospital                   Garcia Ltd  Jones, Brown and Murray  \nInsurance Provider           Medicare         UnitedHealthcare  \nBilling Amount           23303.322092             18086.344184  \nRoom Number                       480                      477  \nAdmission Type                 Urgent                   Urgent  \nDischarge Date             2020-05-03               2021-08-02  \nMedication                 Penicillin              Paracetamol  \nTest Results                 Abnormal                   Normal  ",
      "text/html": "<div>\n<style scoped>\n    .dataframe tbody tr th:only-of-type {\n        vertical-align: middle;\n    }\n\n    .dataframe tbody tr th {\n        vertical-align: top;\n    }\n\n    .dataframe thead th {\n        text-align: right;\n    }\n</style>\n<table border=\"1\" class=\"dataframe\">\n  <thead>\n    <tr style=\"text-align: right;\">\n      <th></th>\n      <th>0</th>\n      <th>1</th>\n      <th>2</th>\n      <th>3</th>\n      <th>4</th>\n    </tr>\n  </thead>\n  <tbody>\n    <tr>\n      <th>Name</th>\n      <td>Tiffany Ramirez</td>\n      <td>Ruben Burns</td>\n      <td>Chad Byrd</td>\n      <td>Antonio Frederick</td>\n      <td>Mrs. Brandy Flowers</td>\n    </tr>\n    <tr>\n      <th>Age</th>\n      <td>81</td>\n      <td>35</td>\n      <td>61</td>\n      <td>49</td>\n      <td>51</td>\n    </tr>\n    <tr>\n      <th>Gender</th>\n      <td>Female</td>\n      <td>Male</td>\n      <td>Male</td>\n      <td>Male</td>\n      <td>Male</td>\n    </tr>\n    <tr>\n      <th>Blood Type</th>\n      <td>O-</td>\n      <td>O+</td>\n      <td>B-</td>\n      <td>B-</td>\n      <td>O-</td>\n    </tr>\n    <tr>\n      <th>Medical Condition</th>\n      <td>Diabetes</td>\n      <td>Asthma</td>\n      <td>Obesity</td>\n      <td>Asthma</td>\n      <td>Arthritis</td>\n    </tr>\n    <tr>\n      <th>Date of Admission</th>\n      <td>2022-11-17</td>\n      <td>2023-06-01</td>\n      <td>2019-01-09</td>\n      <td>2020-05-02</td>\n      <td>2021-07-09</td>\n    </tr>\n    <tr>\n      <th>Doctor</th>\n      <td>Patrick Parker</td>\n      <td>Diane Jackson</td>\n      <td>Paul Baker</td>\n      <td>Brian Chandler</td>\n      <td>Dustin Griffin</td>\n    </tr>\n    <tr>\n      <th>Hospital</th>\n      <td>Wallace-Hamilton</td>\n      <td>Burke, Griffin and Cooper</td>\n      <td>Walton LLC</td>\n      <td>Garcia Ltd</td>\n      <td>Jones, Brown and Murray</td>\n    </tr>\n    <tr>\n      <th>Insurance Provider</th>\n      <td>Medicare</td>\n      <td>UnitedHealthcare</td>\n      <td>Medicare</td>\n      <td>Medicare</td>\n      <td>UnitedHealthcare</td>\n    </tr>\n    <tr>\n      <th>Billing Amount</th>\n      <td>37490.983364</td>\n      <td>47304.064845</td>\n      <td>36874.896997</td>\n      <td>23303.322092</td>\n      <td>18086.344184</td>\n    </tr>\n    <tr>\n      <th>Room Number</th>\n      <td>146</td>\n      <td>404</td>\n      <td>292</td>\n      <td>480</td>\n      <td>477</td>\n    </tr>\n    <tr>\n      <th>Admission Type</th>\n      <td>Elective</td>\n      <td>Emergency</td>\n      <td>Emergency</td>\n      <td>Urgent</td>\n      <td>Urgent</td>\n    </tr>\n    <tr>\n      <th>Discharge Date</th>\n      <td>2022-12-01</td>\n      <td>2023-06-15</td>\n      <td>2019-02-08</td>\n      <td>2020-05-03</td>\n      <td>2021-08-02</td>\n    </tr>\n    <tr>\n      <th>Medication</th>\n      <td>Aspirin</td>\n      <td>Lipitor</td>\n      <td>Lipitor</td>\n      <td>Penicillin</td>\n      <td>Paracetamol</td>\n    </tr>\n    <tr>\n      <th>Test Results</th>\n      <td>Inconclusive</td>\n      <td>Normal</td>\n      <td>Normal</td>\n      <td>Abnormal</td>\n      <td>Normal</td>\n    </tr>\n  </tbody>\n</table>\n</div>"
     },
     "execution_count": 3,
     "metadata": {},
     "output_type": "execute_result"
    }
   ],
   "source": [
    "df = pd.read_csv(\"healthcare_dataset.csv\")\n",
    "df.head().T"
   ],
   "metadata": {
    "collapsed": false,
    "ExecuteTime": {
     "end_time": "2023-12-17T10:31:56.692709900Z",
     "start_time": "2023-12-17T10:31:56.660123900Z"
    }
   },
   "id": "17f0a691c69cf5c"
  },
  {
   "cell_type": "code",
   "execution_count": 4,
   "outputs": [
    {
     "name": "stdout",
     "output_type": "stream",
     "text": [
      "<class 'pandas.core.frame.DataFrame'>\n",
      "RangeIndex: 10000 entries, 0 to 9999\n",
      "Data columns (total 15 columns):\n",
      " #   Column              Non-Null Count  Dtype  \n",
      "---  ------              --------------  -----  \n",
      " 0   Name                10000 non-null  object \n",
      " 1   Age                 10000 non-null  int64  \n",
      " 2   Gender              10000 non-null  object \n",
      " 3   Blood Type          10000 non-null  object \n",
      " 4   Medical Condition   10000 non-null  object \n",
      " 5   Date of Admission   10000 non-null  object \n",
      " 6   Doctor              10000 non-null  object \n",
      " 7   Hospital            10000 non-null  object \n",
      " 8   Insurance Provider  10000 non-null  object \n",
      " 9   Billing Amount      10000 non-null  float64\n",
      " 10  Room Number         10000 non-null  int64  \n",
      " 11  Admission Type      10000 non-null  object \n",
      " 12  Discharge Date      10000 non-null  object \n",
      " 13  Medication          10000 non-null  object \n",
      " 14  Test Results        10000 non-null  object \n",
      "dtypes: float64(1), int64(2), object(12)\n",
      "memory usage: 1.1+ MB\n"
     ]
    },
    {
     "data": {
      "text/plain": "Name                  0\nAge                   0\nGender                0\nBlood Type            0\nMedical Condition     0\nDate of Admission     0\nDoctor                0\nHospital              0\nInsurance Provider    0\nBilling Amount        0\nRoom Number           0\nAdmission Type        0\nDischarge Date        0\nMedication            0\nTest Results          0\ndtype: int64"
     },
     "execution_count": 4,
     "metadata": {},
     "output_type": "execute_result"
    }
   ],
   "source": [
    "df.info()\n",
    "df.isna().sum()"
   ],
   "metadata": {
    "collapsed": false,
    "ExecuteTime": {
     "end_time": "2023-12-17T10:31:56.741147400Z",
     "start_time": "2023-12-17T10:31:56.691204Z"
    }
   },
   "id": "f6359d701c411a1d"
  },
  {
   "cell_type": "code",
   "execution_count": 5,
   "outputs": [
    {
     "data": {
      "text/plain": "                Age  Billing Amount   Room Number\ncount  10000.000000    10000.000000  10000.000000\nmean      51.452200    25516.806778    300.082000\nstd       19.588974    14067.292709    115.806027\nmin       18.000000     1000.180837    101.000000\n25%       35.000000    13506.523967    199.000000\n50%       52.000000    25258.112566    299.000000\n75%       68.000000    37733.913727    400.000000\nmax       85.000000    49995.902283    500.000000",
      "text/html": "<div>\n<style scoped>\n    .dataframe tbody tr th:only-of-type {\n        vertical-align: middle;\n    }\n\n    .dataframe tbody tr th {\n        vertical-align: top;\n    }\n\n    .dataframe thead th {\n        text-align: right;\n    }\n</style>\n<table border=\"1\" class=\"dataframe\">\n  <thead>\n    <tr style=\"text-align: right;\">\n      <th></th>\n      <th>Age</th>\n      <th>Billing Amount</th>\n      <th>Room Number</th>\n    </tr>\n  </thead>\n  <tbody>\n    <tr>\n      <th>count</th>\n      <td>10000.000000</td>\n      <td>10000.000000</td>\n      <td>10000.000000</td>\n    </tr>\n    <tr>\n      <th>mean</th>\n      <td>51.452200</td>\n      <td>25516.806778</td>\n      <td>300.082000</td>\n    </tr>\n    <tr>\n      <th>std</th>\n      <td>19.588974</td>\n      <td>14067.292709</td>\n      <td>115.806027</td>\n    </tr>\n    <tr>\n      <th>min</th>\n      <td>18.000000</td>\n      <td>1000.180837</td>\n      <td>101.000000</td>\n    </tr>\n    <tr>\n      <th>25%</th>\n      <td>35.000000</td>\n      <td>13506.523967</td>\n      <td>199.000000</td>\n    </tr>\n    <tr>\n      <th>50%</th>\n      <td>52.000000</td>\n      <td>25258.112566</td>\n      <td>299.000000</td>\n    </tr>\n    <tr>\n      <th>75%</th>\n      <td>68.000000</td>\n      <td>37733.913727</td>\n      <td>400.000000</td>\n    </tr>\n    <tr>\n      <th>max</th>\n      <td>85.000000</td>\n      <td>49995.902283</td>\n      <td>500.000000</td>\n    </tr>\n  </tbody>\n</table>\n</div>"
     },
     "execution_count": 5,
     "metadata": {},
     "output_type": "execute_result"
    }
   ],
   "source": [
    "df.describe()"
   ],
   "metadata": {
    "collapsed": false,
    "ExecuteTime": {
     "end_time": "2023-12-17T10:31:56.752524300Z",
     "start_time": "2023-12-17T10:31:56.706405200Z"
    }
   },
   "id": "7f93c63791b795d3"
  }
 ],
 "metadata": {
  "kernelspec": {
   "display_name": "Python 3",
   "language": "python",
   "name": "python3"
  },
  "language_info": {
   "codemirror_mode": {
    "name": "ipython",
    "version": 2
   },
   "file_extension": ".py",
   "mimetype": "text/x-python",
   "name": "python",
   "nbconvert_exporter": "python",
   "pygments_lexer": "ipython2",
   "version": "2.7.6"
  }
 },
 "nbformat": 4,
 "nbformat_minor": 5
}
